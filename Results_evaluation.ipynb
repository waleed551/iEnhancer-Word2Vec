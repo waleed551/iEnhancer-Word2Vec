{
 "cells": [
  {
   "cell_type": "code",
   "execution_count": 1,
   "metadata": {},
   "outputs": [],
   "source": [
    "import sys\n",
    "sys.path.insert(0, '../models/')\n",
    "import os\n",
    "os.environ[\"CUDA_DEVICE_ORDER\"]=\"PCI_BUS_ID\"   # see issue #152\n",
    "os.environ[\"CUDA_VISIBLE_DEVICES\"]=\"\"\n",
    "import pandas as pd\n",
    "import numpy as np\n",
    "import matplotlib.pyplot as plt\n",
    "from random import shuffle\n",
    "from Bio import SeqIO\n",
    "import gensim\n",
    "import os\n",
    "import collections\n",
    "import smart_open\n",
    "import random\n",
    "import h5py\n",
    "import keras\n",
    "from tensorflow.keras.layers import *\n",
    "from tensorflow.keras import *\n",
    "from tensorflow.keras.models import Model\n",
    "from tensorflow.keras.callbacks import ModelCheckpoint, EarlyStopping\n",
    "from keras.regularizers import l2 \n",
    "import tensorflow.keras\n",
    "import tensorflow as tf\n",
    "from tensorflow.keras.optimizers import SGD, Adam, RMSprop\n",
    "from tensorflow.keras.callbacks import ModelCheckpoint, EarlyStopping, LearningRateScheduler, CSVLogger\n",
    "from tensorflow.keras.models import model_from_json\n",
    "from tensorflow.keras.models import model_from_yaml\n",
    "from tensorflow.keras.layers import Input,Conv1D, Dense,GRU, LSTM, MaxPooling1D, Flatten, Dropout, BatchNormalization, Activation,AveragePooling1D\n",
    "from tensorflow.keras.initializers import RandomUniform\n",
    "import keras.backend as K\n",
    "from random import shuffle\n",
    "from sklearn.utils import class_weight\n",
    "import collections\n",
    "import smart_open\n",
    "import random\n",
    "#np.random.seed(1337) # for reproducibility\n",
    "from random import shuffle\n",
    "from sklearn.model_selection import train_test_split\n",
    "from matplotlib import pyplot\n",
    "from matplotlib import pyplot as plt\n",
    "from scipy import interp"
   ]
  },
  {
   "cell_type": "code",
   "execution_count": 2,
   "metadata": {},
   "outputs": [
    {
     "name": "stderr",
     "output_type": "stream",
     "text": [
      "/home/waleed/anaconda3/envs/tf10/lib/python3.7/site-packages/smart_open/smart_open_lib.py:402: UserWarning: This function is deprecated, use smart_open.open instead. See the migration notes for details: https://github.com/RaRe-Technologies/smart_open/blob/master/README.rst#migrating-to-the-new-open-function\n",
      "  'See the migration notes for details: %s' % _MIGRATION_NOTES_URL\n"
     ]
    }
   ],
   "source": [
    "model_wv =gensim.models.word2vec.Word2Vec.load('word2vec_pretrained_models/my_word2vec-model-DNA-3mer')"
   ]
  },
  {
   "cell_type": "code",
   "execution_count": 3,
   "metadata": {},
   "outputs": [
    {
     "data": {
      "text/plain": [
       "279457"
      ]
     },
     "execution_count": 3,
     "metadata": {},
     "output_type": "execute_result"
    }
   ],
   "source": [
    "model_wv.corpus_count"
   ]
  },
  {
   "cell_type": "code",
   "execution_count": 4,
   "metadata": {},
   "outputs": [],
   "source": [
    "######## Read data ###############################\n",
    "def read_seq_new(seq_file,label):\n",
    "    seq_list = []\n",
    "    seq = ''\n",
    "    with open(seq_file, 'r') as fp:\n",
    "        for line in fp:\n",
    "            if line[0] == '>':\n",
    "                if len(seq):\n",
    "                    seq = seq.upper()\n",
    "                    seq_list.append(seq)                    \n",
    "                seq = ''\n",
    "            else:\n",
    "                seq = seq + line[:-1]\n",
    "        \n",
    "        if len(seq):\n",
    "            seq_list.append(seq) \n",
    "    seq_data=[]\n",
    "    all_data=[]\n",
    "    for s in seq_list:\n",
    "        tmp=s[0:200]\n",
    "        seq_data.append(tmp)\n",
    "        all_data.append([label])\n",
    "    return seq_data, all_data\n"
   ]
  },
  {
   "cell_type": "code",
   "execution_count": 5,
   "metadata": {},
   "outputs": [
    {
     "name": "stdout",
     "output_type": "stream",
     "text": [
      "Model: \"model\"\n",
      "_________________________________________________________________\n",
      " Layer (type)                Output Shape              Param #   \n",
      "=================================================================\n",
      " input_1 (InputLayer)        [(None, 197, 100)]        0         \n",
      "                                                                 \n",
      " conv1d (Conv1D)             (None, 197, 32)           35232     \n",
      "                                                                 \n",
      " max_pooling1d (MaxPooling1D  (None, 49, 32)           0         \n",
      " )                                                               \n",
      "                                                                 \n",
      " conv1d_1 (Conv1D)           (None, 49, 64)            26688     \n",
      "                                                                 \n",
      " max_pooling1d_1 (MaxPooling  (None, 12, 64)           0         \n",
      " 1D)                                                             \n",
      "                                                                 \n",
      " flatten (Flatten)           (None, 768)               0         \n",
      "                                                                 \n",
      " dropout (Dropout)           (None, 768)               0         \n",
      "                                                                 \n",
      " dense (Dense)               (None, 1)                 769       \n",
      "                                                                 \n",
      "=================================================================\n",
      "Total params: 62,689\n",
      "Trainable params: 62,689\n",
      "Non-trainable params: 0\n",
      "_________________________________________________________________\n",
      "None\n"
     ]
    }
   ],
   "source": [
    "inp=Input((197,100))\n",
    "x= Conv1D(32,11,padding='same',activation='relu',kernel_initializer=keras.initializers.RandomUniform())(inp)\n",
    "x= MaxPooling1D(4)(x)\n",
    "x= Conv1D(64,13,padding='same',activation='relu',kernel_initializer=keras.initializers.RandomUniform())(x)\n",
    "#x= Conv1D(32,5,padding='same',activation='relu',kernel_initializer=keras.initializers.RandomUniform())(x)\n",
    "x= MaxPooling1D(4)(x)\n",
    "\n",
    "x= Flatten()(x)\n",
    "x=Dropout(0.5)(x)\n",
    "x=Dense(1,activation='sigmoid')(x)\n",
    "model= Model(inp,x)\n",
    "print (model.summary())"
   ]
  },
  {
   "cell_type": "code",
   "execution_count": 6,
   "metadata": {},
   "outputs": [],
   "source": [
    "seq_pos_data, all_data_pos = read_seq_new('Datasets/layer2/independent_data/strong_100.txt',1.0)\n",
    "seq_neg_data, all_data_neg= read_seq_new('Datasets/layer2/independent_data/weak_100.txt',0.0)\n",
    "\n",
    "seq_pos_data=np.asarray(seq_pos_data)\n",
    "seq_neg_data=np.asarray(seq_neg_data)"
   ]
  },
  {
   "cell_type": "code",
   "execution_count": 7,
   "metadata": {},
   "outputs": [],
   "source": [
    "x_pos = np.zeros((len(seq_pos_data),197,100)) # 41 is lenght of sequence 41-2=39, 100 is set in main file length of sentence\n",
    "for ix, seq in enumerate(seq_pos_data):\n",
    "    for iy in range(197):\n",
    "        vec = model_wv.wv[seq[iy:iy+3]]\n",
    "        x_pos[ix,iy,:]=vec"
   ]
  },
  {
   "cell_type": "code",
   "execution_count": 8,
   "metadata": {},
   "outputs": [],
   "source": [
    "x_neg = np.zeros((len(seq_neg_data),197,100))\n",
    "for ix, seq in enumerate(seq_neg_data):\n",
    "    for iy in range(197):\n",
    "        vec = model_wv.wv[seq[iy:iy+3]]\n",
    "        x_neg[ix,iy,:]=vec"
   ]
  },
  {
   "cell_type": "code",
   "execution_count": 9,
   "metadata": {},
   "outputs": [],
   "source": [
    "x = np.concatenate((x_pos,x_neg))\n",
    "y= len(x_pos)*[1]+len(x_neg)*[0]\n",
    "y=np.asarray(y)\n",
    "shuffled_indices =np.random.randint(0, len(y),len(y))\n",
    "\n",
    "y=y[shuffled_indices]\n",
    "x=x[shuffled_indices]"
   ]
  },
  {
   "cell_type": "code",
   "execution_count": 10,
   "metadata": {},
   "outputs": [
    {
     "name": "stdout",
     "output_type": "stream",
     "text": [
      "WARNING:tensorflow:AutoGraph could not transform <function Model.make_predict_function.<locals>.predict_function at 0x7f662c4969e0> and will run it as-is.\n",
      "Please report this to the TensorFlow team. When filing the bug, set the verbosity to 10 (on Linux, `export AUTOGRAPH_VERBOSITY=10`) and attach the full output.\n",
      "Cause: 'arguments' object has no attribute 'posonlyargs'\n",
      "To silence this warning, decorate the function with @tf.autograph.experimental.do_not_convert\n",
      "WARNING: AutoGraph could not transform <function Model.make_predict_function.<locals>.predict_function at 0x7f662c4969e0> and will run it as-is.\n",
      "Please report this to the TensorFlow team. When filing the bug, set the verbosity to 10 (on Linux, `export AUTOGRAPH_VERBOSITY=10`) and attach the full output.\n",
      "Cause: 'arguments' object has no attribute 'posonlyargs'\n",
      "To silence this warning, decorate the function with @tf.autograph.experimental.do_not_convert\n",
      "7/7 [==============================] - 0s 4ms/step\n"
     ]
    }
   ],
   "source": [
    "best_weights =\"/home/waleed/Enhancer/results-dataset-1-6mer/waleed-word2vector/best_weights.h5\"\n",
    "model.load_weights(best_weights)\n",
    "y_scores= model.predict(x)\n",
    "y_true=y"
   ]
  },
  {
   "cell_type": "code",
   "execution_count": 11,
   "metadata": {},
   "outputs": [
    {
     "name": "stdout",
     "output_type": "stream",
     "text": [
      "\n",
      "Area under the ROC curve: 0.8536634460547505\n",
      "Global Accuracy: 0.735\n",
      "Specificity: 0.5833333333333334\n",
      "Sensitivity: 0.9130434782608695\n",
      "\n",
      "F1 score (F-measure): 0.7601809954751132\n",
      "MCC: 0.5170032188364166\n"
     ]
    },
    {
     "data": {
      "image/png": "[encoded data removed]",
      "text/plain": [
       "<Figure size 432x288 with 1 Axes>"
      ]
     },
     "metadata": {
      "needs_background": "light"
     },
     "output_type": "display_data"
    }
   ],
   "source": [
    "#scikit learn\n",
    "from sklearn.metrics import roc_curve,auc\n",
    "from sklearn.metrics import roc_auc_score\n",
    "from sklearn.metrics import confusion_matrix\n",
    "from sklearn.metrics import precision_recall_curve\n",
    "from sklearn.metrics import matthews_corrcoef\n",
    "from sklearn.metrics import f1_score\n",
    "from matplotlib import pyplot as plt\n",
    "%matplotlib inline\n",
    "#Area under the ROC curve\n",
    "fpr, tpr, thresholds = roc_curve((y_true), y_scores)\n",
    "AUC_ROC = roc_auc_score(y_true, y_scores)\n",
    "# test_integral = np.trapz(tpr,fpr) #trapz is numpy integration\n",
    "print (\"\\nArea under the ROC curve: \" +str(AUC_ROC))\n",
    "roc_curve =plt.figure()\n",
    "plt.plot(fpr,tpr,'-',label='Area Under the Curve (AUC = %0.4f)' % AUC_ROC)\n",
    "plt.title('ROC curve')\n",
    "plt.xlabel(\"FPR (False Positive Rate)\")\n",
    "plt.ylabel(\"TPR (True Positive Rate)\")\n",
    "plt.legend(loc=\"lower right\")\n",
    "#plt.savefig(path_experiment+\"ROC.png\")\n",
    "plt.savefig('Enhancer-dataset-2-one-hot-code-ROC-Testing.png')\n",
    "#Precision-recall curve\n",
    "precision, recall, thresholds = precision_recall_curve(y_true, y_scores)\n",
    "precision = np.fliplr([precision])[0]  #so the array is increasing (you won't get negative AUC)\n",
    "recall = np.fliplr([recall])[0]  #so the array is increasing (you won't get negative AUC)\n",
    "AUC_prec_rec = np.trapz(precision,recall)\n",
    "#Confusion matrix\n",
    "threshold_confusion = 0.5\n",
    "#print (\"\\nConfusion matrix:  Custom threshold (for positive) of \" +str(threshold_confusion))\n",
    "y_pred = np.empty((y_scores.shape[0]))\n",
    "for i in range(y_scores.shape[0]):\n",
    "    if y_scores[i]>=threshold_confusion:\n",
    "        y_pred[i]=1\n",
    "    else:\n",
    "        y_pred[i]=0\n",
    "confusion = confusion_matrix(y_true, y_pred)\n",
    "#print (confusion)\n",
    "accuracy = 0\n",
    "if float(np.sum(confusion))!=0:\n",
    "    accuracy = float(confusion[0,0]+confusion[1,1])/float(np.sum(confusion))\n",
    "print (\"Global Accuracy: \" +str(accuracy))\n",
    "specificity = 0\n",
    "if float(confusion[0,0]+confusion[0,1])!=0:\n",
    "    specificity = float(confusion[0,0])/float(confusion[0,0]+confusion[0,1])\n",
    "print (\"Specificity: \" +str(specificity))\n",
    "sensitivity = 0\n",
    "if float(confusion[1,1]+confusion[1,0])!=0:\n",
    "    sensitivity = float(confusion[1,1])/float(confusion[1,1]+confusion[1,0])\n",
    "print (\"Sensitivity: \" +str(sensitivity))\n",
    "precision = 0\n",
    "if float(confusion[1,1]+confusion[0,1])!=0:\n",
    "    precision = float(confusion[1,1])/float(confusion[1,1]+confusion[0,1])\n",
    "#print (\"Precision: \" +str(precision))\n",
    "\n",
    "#Jaccard similarity index\n",
    "#jaccard_index = jaccard_similarity_score(y_true, y_pred, normalize=True)\n",
    "#print (\"\\nJaccard similarity score: \" +str(jaccard_index))\n",
    "\n",
    "#F1 score\n",
    "F1_score = f1_score(y_true, y_pred, labels=None, average='binary', sample_weight=None)\n",
    "print (\"\\nF1 score (F-measure): \" +str(F1_score))\n",
    "\n",
    "mcc= matthews_corrcoef(y_true, y_pred)\n",
    "print ('MCC:', mcc)"
   ]
  },
  {
   "cell_type": "code",
   "execution_count": null,
   "metadata": {},
   "outputs": [],
   "source": []
  },
  {
   "cell_type": "code",
   "execution_count": null,
   "metadata": {},
   "outputs": [],
   "source": []
  }
 ],
 "metadata": {
  "kernelspec": {
   "display_name": "Python 3",
   "language": "python",
   "name": "python3"
  },
  "language_info": {
   "codemirror_mode": {
    "name": "ipython",
    "version": 3
   },
   "file_extension": ".py",
   "mimetype": "text/x-python",
   "name": "python",
   "nbconvert_exporter": "python",
   "pygments_lexer": "ipython3",
   "version": "3.7.12"
  }
 },
 "nbformat": 4,
 "nbformat_minor": 4
}
